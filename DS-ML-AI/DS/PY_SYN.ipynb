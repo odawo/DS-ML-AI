{
  "nbformat": 4,
  "nbformat_minor": 0,
  "metadata": {
    "colab": {
      "name": "PY SYN.ipynb",
      "provenance": [],
      "collapsed_sections": []
    },
    "kernelspec": {
      "name": "python3",
      "display_name": "Python 3"
    }
  },
  "cells": [
    {
      "cell_type": "markdown",
      "metadata": {
        "id": "c5Z0wSLB6HsV",
        "colab_type": "text"
      },
      "source": [
        "PRACTICE NOTEBOOK FOR THE COMMON ISSUES : RANDOM SYNTAX, QUESTIONS&ANSWERS, GENERAL SOLUTIONS \n",
        "\n",
        "NO PARTICULAR FORMAT"
      ]
    },
    {
      "cell_type": "markdown",
      "metadata": {
        "id": "pS6fd3VB6b7n",
        "colab_type": "text"
      },
      "source": [
        "NUMPY, PANDAS, DATAFRAME ISSUES"
      ]
    },
    {
      "cell_type": "markdown",
      "metadata": {
        "id": "d-eqcKIMtzZX",
        "colab_type": "text"
      },
      "source": [
        "**General methods that leverage computation are ultimately the most effective, and by a large margin.**"
      ]
    },
    {
      "cell_type": "code",
      "metadata": {
        "id": "LuTilzRL6iW0",
        "colab_type": "code",
        "colab": {}
      },
      "source": [
        "#colab specific\n",
        "import google.colab/files, io \n",
        "#general\n",
        "import pandas, numpy, matplotlib.pyplot, seaborn, pyspark, tensorflow, keras\n",
        "#algorithm\n",
        "import NearestNsighbor, LinearRegression, "
      ],
      "execution_count": null,
      "outputs": []
    },
    {
      "cell_type": "code",
      "metadata": {
        "id": "KH5Oiy9DuI7l",
        "colab_type": "code",
        "colab": {}
      },
      "source": [
        "#Quick numpy\n",
        "https://numpy.org/\n",
        "\n",
        "#numpy to array\n",
        "arr1=[[1,2,3.4,4,5,6]]\n",
        "np.to_array(arr1)"
      ],
      "execution_count": null,
      "outputs": []
    },
    {
      "cell_type": "code",
      "metadata": {
        "id": "s7o-3t-OBmm4",
        "colab_type": "code",
        "colab": {}
      },
      "source": [
        "#uploading files to colab\n",
        "upload = files.upload()\n",
        "\n",
        "#pandas\n",
        "https://pandas.pydata.org/docs/getting_started/index.html#getting-started\n",
        "https://pandas.pydata.org/Pandas_Cheat_Sheet.pdf\n",
        "\n",
        "#after choosing the file for upload\n",
        "df = pandas.read_csv(io.BytesIO(upload['file.csv']))\n"
      ],
      "execution_count": null,
      "outputs": []
    },
    {
      "cell_type": "code",
      "metadata": {
        "id": "mYAz8-b6L8Dh",
        "colab_type": "code",
        "colab": {}
      },
      "source": [
        "#create a dataframe\n",
        "\n",
        "#.from series\n",
        "df = [1,2,3,4,5]\n",
        "df = [1:'a', 2:'b', 3:'c', 4:'d']\n",
        "\n",
        "#.new from an existing one\n",
        "df2 = df.copy()\n",
        "#.specific column / (s)\n",
        "df2 = df['A'].copy() | df2 = df[['A','B','C']].copy()\n"
      ],
      "execution_count": null,
      "outputs": []
    },
    {
      "cell_type": "code",
      "metadata": {
        "id": "6qNLY7ixUz6b",
        "colab_type": "code",
        "colab": {}
      },
      "source": [
        "#create a new column\n",
        "#.creates an empty column\n",
        "df['new_col'] = ''\n",
        "\n",
        "#alter column value\n",
        "df['A'] = df['A']/.A.replace('old_value','new_value', inplace=True/False*)\n",
        "\n",
        "#drop a column\n",
        "df = df.drop('A', axis=1) #axis 1 -> columns\n",
        "\n"
      ],
      "execution_count": null,
      "outputs": []
    },
    {
      "cell_type": "code",
      "metadata": {
        "id": "go3Jqbi7Uz9I",
        "colab_type": "code",
        "colab": {}
      },
      "source": [
        "#insert new rows\n",
        "row = [1:'d', 2:'e', 3:'f', 4:'h']\n",
        "\n",
        "#fill empty value in row\n",
        "df = df.col.fillna('desired value') | axis=0 #axis 0 -> rows\n",
        "\n",
        "#drop all empty rowa\n",
        "df = df.dropna()"
      ],
      "execution_count": null,
      "outputs": []
    },
    {
      "cell_type": "code",
      "metadata": {
        "id": "UM-Bi1iLUOYO",
        "colab_type": "code",
        "colab": {}
      },
      "source": [
        "#create range\n",
        "#*labels should be one less than the binaries, create a new \n",
        "bins = 0,10,20,30\n",
        "labels = ['0-9','10-19','20-29'] \n",
        "df['new_col'] = pd.cut(df['A'], bins=bins, labels=labels, right/left=True/False)\n"
      ],
      "execution_count": null,
      "outputs": []
    },
    {
      "cell_type": "code",
      "metadata": {
        "id": "bKoKlibqT1XU",
        "colab_type": "code",
        "colab": {}
      },
      "source": [
        "#grouping dataframe data\n",
        "df.groupby(['A','B','C']).count()/sum()/nunique()\n",
        "#monthly/yearly\n",
        "df.groupby(['A','B',df['C'].dt.year/month]).count()/sum()/nunique()\n",
        "#by duplicates\n",
        "df.groupby([df.A.duplicated(),'B','C']).count()"
      ],
      "execution_count": null,
      "outputs": []
    }
  ]
}